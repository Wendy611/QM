{
 "cells": [
  {
   "cell_type": "code",
   "execution_count": 1,
   "id": "d4e23964-7e7f-44b6-9354-d581b54ba151",
   "metadata": {},
   "outputs": [],
   "source": [
    "import pandas as pd\n",
    "import numpy as np\n",
    "import matplotlib.pyplot as plt\n",
    "import statsmodels\n",
    "import statsmodels.formula.api as smf"
   ]
  },
  {
   "cell_type": "code",
   "execution_count": 36,
   "id": "ca6dfae2-66c1-413a-93bb-085340753880",
   "metadata": {},
   "outputs": [
    {
     "data": {
      "text/html": [
       "<div>\n",
       "<style scoped>\n",
       "    .dataframe tbody tr th:only-of-type {\n",
       "        vertical-align: middle;\n",
       "    }\n",
       "\n",
       "    .dataframe tbody tr th {\n",
       "        vertical-align: top;\n",
       "    }\n",
       "\n",
       "    .dataframe thead th {\n",
       "        text-align: right;\n",
       "    }\n",
       "</style>\n",
       "<table border=\"1\" class=\"dataframe\">\n",
       "  <thead>\n",
       "    <tr style=\"text-align: right;\">\n",
       "      <th></th>\n",
       "      <th>Unnamed: 0</th>\n",
       "      <th>ward</th>\n",
       "      <th>borough</th>\n",
       "      <th>%_english_is_first_language_of_no_one_in_household_2011</th>\n",
       "      <th>median_house_price_2014</th>\n",
       "      <th>median_household_income_estimate_2012_13</th>\n",
       "      <th>male_life_expectancy_2009_13</th>\n",
       "      <th>female_life_expectancy_2009_13</th>\n",
       "      <th>%_area_that_is_open_space_2014</th>\n",
       "      <th>%_travel_by_bicycle_to_work_2011</th>\n",
       "      <th>turnout_at_mayoral_election_2012</th>\n",
       "      <th>crime_rate_2014_15</th>\n",
       "      <th>%_bame_2011</th>\n",
       "      <th>%_all_older_people_aged_65_2015</th>\n",
       "      <th>%_homes_with_good_access_to_nature</th>\n",
       "      <th>%_homes_with_deficiency_in_access_to_nature</th>\n",
       "      <th>female_life_expectancy_normalised</th>\n",
       "      <th>male_life_expectancy_normalised</th>\n",
       "    </tr>\n",
       "  </thead>\n",
       "  <tbody>\n",
       "    <tr>\n",
       "      <th>0</th>\n",
       "      <td>1</td>\n",
       "      <td>E05000026</td>\n",
       "      <td>Barking and Dagenham</td>\n",
       "      <td>25.7</td>\n",
       "      <td>173000.0</td>\n",
       "      <td>33920.0</td>\n",
       "      <td>80.2</td>\n",
       "      <td>83.9</td>\n",
       "      <td>21.9</td>\n",
       "      <td>0.8</td>\n",
       "      <td>25.7</td>\n",
       "      <td>138.1</td>\n",
       "      <td>71.9</td>\n",
       "      <td>5.0</td>\n",
       "      <td>98.0</td>\n",
       "      <td>2.0</td>\n",
       "      <td>0.996498</td>\n",
       "      <td>1.005313</td>\n",
       "    </tr>\n",
       "    <tr>\n",
       "      <th>1</th>\n",
       "      <td>2</td>\n",
       "      <td>E05000027</td>\n",
       "      <td>Barking and Dagenham</td>\n",
       "      <td>7.9</td>\n",
       "      <td>215000.0</td>\n",
       "      <td>32470.0</td>\n",
       "      <td>77.2</td>\n",
       "      <td>80.6</td>\n",
       "      <td>20.6</td>\n",
       "      <td>1.0</td>\n",
       "      <td>20.3</td>\n",
       "      <td>73.6</td>\n",
       "      <td>29.9</td>\n",
       "      <td>10.0</td>\n",
       "      <td>28.0</td>\n",
       "      <td>72.0</td>\n",
       "      <td>0.957303</td>\n",
       "      <td>0.967708</td>\n",
       "    </tr>\n",
       "    <tr>\n",
       "      <th>2</th>\n",
       "      <td>3</td>\n",
       "      <td>E05000028</td>\n",
       "      <td>Barking and Dagenham</td>\n",
       "      <td>10.5</td>\n",
       "      <td>210000.0</td>\n",
       "      <td>33000.0</td>\n",
       "      <td>79.0</td>\n",
       "      <td>79.3</td>\n",
       "      <td>1.9</td>\n",
       "      <td>1.6</td>\n",
       "      <td>22.5</td>\n",
       "      <td>79.9</td>\n",
       "      <td>41.2</td>\n",
       "      <td>8.7</td>\n",
       "      <td>83.0</td>\n",
       "      <td>17.0</td>\n",
       "      <td>0.941863</td>\n",
       "      <td>0.990271</td>\n",
       "    </tr>\n",
       "    <tr>\n",
       "      <th>3</th>\n",
       "      <td>4</td>\n",
       "      <td>E05000029</td>\n",
       "      <td>Barking and Dagenham</td>\n",
       "      <td>6.5</td>\n",
       "      <td>240500.0</td>\n",
       "      <td>33920.0</td>\n",
       "      <td>79.2</td>\n",
       "      <td>82.2</td>\n",
       "      <td>56.0</td>\n",
       "      <td>1.2</td>\n",
       "      <td>25.3</td>\n",
       "      <td>76.1</td>\n",
       "      <td>37.9</td>\n",
       "      <td>14.2</td>\n",
       "      <td>36.0</td>\n",
       "      <td>64.0</td>\n",
       "      <td>0.976306</td>\n",
       "      <td>0.992778</td>\n",
       "    </tr>\n",
       "    <tr>\n",
       "      <th>4</th>\n",
       "      <td>5</td>\n",
       "      <td>E05000030</td>\n",
       "      <td>Barking and Dagenham</td>\n",
       "      <td>4.5</td>\n",
       "      <td>240000.0</td>\n",
       "      <td>37400.0</td>\n",
       "      <td>77.1</td>\n",
       "      <td>81.1</td>\n",
       "      <td>50.4</td>\n",
       "      <td>1.6</td>\n",
       "      <td>24.1</td>\n",
       "      <td>66.7</td>\n",
       "      <td>24.8</td>\n",
       "      <td>14.2</td>\n",
       "      <td>100.0</td>\n",
       "      <td>0.0</td>\n",
       "      <td>0.963242</td>\n",
       "      <td>0.966455</td>\n",
       "    </tr>\n",
       "  </tbody>\n",
       "</table>\n",
       "</div>"
      ],
      "text/plain": [
       "   Unnamed: 0       ward               borough  \\\n",
       "0           1  E05000026  Barking and Dagenham   \n",
       "1           2  E05000027  Barking and Dagenham   \n",
       "2           3  E05000028  Barking and Dagenham   \n",
       "3           4  E05000029  Barking and Dagenham   \n",
       "4           5  E05000030  Barking and Dagenham   \n",
       "\n",
       "   %_english_is_first_language_of_no_one_in_household_2011  \\\n",
       "0                                               25.7         \n",
       "1                                                7.9         \n",
       "2                                               10.5         \n",
       "3                                                6.5         \n",
       "4                                                4.5         \n",
       "\n",
       "   median_house_price_2014  median_household_income_estimate_2012_13  \\\n",
       "0                 173000.0                                   33920.0   \n",
       "1                 215000.0                                   32470.0   \n",
       "2                 210000.0                                   33000.0   \n",
       "3                 240500.0                                   33920.0   \n",
       "4                 240000.0                                   37400.0   \n",
       "\n",
       "   male_life_expectancy_2009_13  female_life_expectancy_2009_13  \\\n",
       "0                          80.2                            83.9   \n",
       "1                          77.2                            80.6   \n",
       "2                          79.0                            79.3   \n",
       "3                          79.2                            82.2   \n",
       "4                          77.1                            81.1   \n",
       "\n",
       "   %_area_that_is_open_space_2014  %_travel_by_bicycle_to_work_2011  \\\n",
       "0                            21.9                               0.8   \n",
       "1                            20.6                               1.0   \n",
       "2                             1.9                               1.6   \n",
       "3                            56.0                               1.2   \n",
       "4                            50.4                               1.6   \n",
       "\n",
       "   turnout_at_mayoral_election_2012  crime_rate_2014_15  %_bame_2011  \\\n",
       "0                              25.7               138.1         71.9   \n",
       "1                              20.3                73.6         29.9   \n",
       "2                              22.5                79.9         41.2   \n",
       "3                              25.3                76.1         37.9   \n",
       "4                              24.1                66.7         24.8   \n",
       "\n",
       "   %_all_older_people_aged_65_2015  %_homes_with_good_access_to_nature  \\\n",
       "0                              5.0                                98.0   \n",
       "1                             10.0                                28.0   \n",
       "2                              8.7                                83.0   \n",
       "3                             14.2                                36.0   \n",
       "4                             14.2                               100.0   \n",
       "\n",
       "   %_homes_with_deficiency_in_access_to_nature  \\\n",
       "0                                          2.0   \n",
       "1                                         72.0   \n",
       "2                                         17.0   \n",
       "3                                         64.0   \n",
       "4                                          0.0   \n",
       "\n",
       "   female_life_expectancy_normalised  male_life_expectancy_normalised  \n",
       "0                           0.996498                         1.005313  \n",
       "1                           0.957303                         0.967708  \n",
       "2                           0.941863                         0.990271  \n",
       "3                           0.976306                         0.992778  \n",
       "4                           0.963242                         0.966455  "
      ]
     },
     "execution_count": 36,
     "metadata": {},
     "output_type": "execute_result"
    }
   ],
   "source": [
    "df = pd.read_csv(\"https://raw.githubusercontent.com/Wendy611/QM/main/full_data.csv\")\n",
    "df.head()"
   ]
  },
  {
   "cell_type": "code",
   "execution_count": 38,
   "id": "ec3794d5-724c-4e81-afd4-cce15440983b",
   "metadata": {},
   "outputs": [
    {
     "name": "stdout",
     "output_type": "stream",
     "text": [
      "df.shape:  (624, 18)\n"
     ]
    }
   ],
   "source": [
    "print(\"df.shape: \", df.shape)"
   ]
  },
  {
   "cell_type": "code",
   "execution_count": 35,
   "id": "a5b481ee-ed55-4301-a9c7-0620b30590c1",
   "metadata": {},
   "outputs": [
    {
     "name": "stdout",
     "output_type": "stream",
     "text": [
      "size of dataset: 624\n",
      "mean: 11.79\n",
      "median: 11.1\n",
      "min: 3.7\n",
      "max: 24.3\n",
      "range: 20.6\n",
      "variance: 18.192\n",
      "standard deviation: 4.265\n"
     ]
    }
   ],
   "source": [
    "size = len(df)\n",
    "\n",
    "older_mean = df['%_all_older_people_aged_65_2015'].mean()\n",
    "older_median = df['%_all_older_people_aged_65_2015'].median()\n",
    "older_min = df['%_all_older_people_aged_65_2015'].min()\n",
    "older_max = df['%_all_older_people_aged_65_2015'].max()\n",
    "older_people_percent_range = older_max - older_min\n",
    "variance = df['%_all_older_people_aged_65_2015'].var()\n",
    "std_dev = df['%_all_older_people_aged_65_2015'].std()\n",
    "\n",
    "print(\"size of dataset:\",size)\n",
    "print(\"mean:\", round(older_mean, 2))\n",
    "print(\"median:\", older_median)\n",
    "print(\"min:\", older_min)\n",
    "print(\"max:\", older_max)\n",
    "print(\"range:\", older_people_percent_range)\n",
    "print(\"variance:\", round(variance, 3))\n",
    "print(\"standard deviation:\", round(std_dev, 3))"
   ]
  },
  {
   "cell_type": "code",
   "execution_count": 28,
   "id": "4e1c5d70-814c-44c1-b44c-0a3ce13d281a",
   "metadata": {},
   "outputs": [
    {
     "data": {
      "text/plain": [
       "<AxesSubplot:>"
      ]
     },
     "execution_count": 28,
     "metadata": {},
     "output_type": "execute_result"
    },
    {
     "data": {
      "image/png": "[encoded data removed]",
      "text/plain": [
       "<Figure size 432x288 with 1 Axes>"
      ]
     },
     "metadata": {
      "needs_background": "light"
     },
     "output_type": "display_data"
    }
   ],
   "source": [
    "df.boxplot(column='%_all_older_people_aged_65_2015')"
   ]
  },
  {
   "cell_type": "code",
   "execution_count": 52,
   "id": "41500779-b3b0-4e0d-aff9-7d28591d2e52",
   "metadata": {},
   "outputs": [
    {
     "data": {
      "text/plain": [
       "Text(12.97136217948718, 63.315, 'Mean:11.79')"
      ]
     },
     "execution_count": 52,
     "metadata": {},
     "output_type": "execute_result"
    },
    {
     "data": {
      "image/png": "[encoded data removed]",
      "text/plain": [
       "<Figure size 640x480 with 1 Axes>"
      ]
     },
     "metadata": {},
     "output_type": "display_data"
    }
   ],
   "source": [
    "df['%_all_older_people_aged_65_2015'].plot.hist(grid=True, bins=20, rwidth=0.9,\n",
    "                                               color='#B0C4DE')\n",
    "plt.title('Percentage of people over 65 years old in 2015')\n",
    "plt.xlabel('percentage of people over 65 years old')\n",
    "plt.ylabel('count')\n",
    "\n",
    "plt.grid(axis='x')\n",
    "plt.axvline(older_mean, color='k', linestyle='dashed')\n",
    "min_ylim, max_ylim = plt.ylim()\n",
    "plt.text(older_mean*1.1, max_ylim*0.9, 'Mean:{:.2f}'.format(older_mean))"
   ]
  }
 ],
 "metadata": {
  "kernelspec": {
   "display_name": "Python 3 (ipykernel)",
   "language": "python",
   "name": "python3"
  },
  "language_info": {
   "codemirror_mode": {
    "name": "ipython",
    "version": 3
   },
   "file_extension": ".py",
   "mimetype": "text/x-python",
   "name": "python",
   "nbconvert_exporter": "python",
   "pygments_lexer": "ipython3",
   "version": "3.10.5"
  }
 },
 "nbformat": 4,
 "nbformat_minor": 5
}
